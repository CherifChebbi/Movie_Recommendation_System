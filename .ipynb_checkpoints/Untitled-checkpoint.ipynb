{
 "cells": [
  {
   "cell_type": "markdown",
   "id": "312eb09d",
   "metadata": {},
   "source": [
    "<h1 style=\"text-align: center;\"> Movie Recommendation System </h1>"
   ]
  },
  {
   "cell_type": "markdown",
   "id": "9de70578",
   "metadata": {},
   "source": [
    "\n",
    "## Objective:\n",
    "This project demonstrates a movie recommendation system using machine learning techniques. \n",
    "The system recommends movies based on their content similarity using textual features like genres, keywords, tagline, cast, and director.\n",
    "\n",
    "### Key Steps:\n",
    "1. Data Collection and Pre-Processing\n",
    "2. Feature Engineering and Vectorization\n",
    "3. Similarity Calculation Using Cosine Similarity\n",
    "4. Generating Recommendations Based on User Input\n"
   ]
  },
  {
   "cell_type": "code",
   "execution_count": 58,
   "id": "6169d244",
   "metadata": {},
   "outputs": [],
   "source": [
    "# Importing Required Libraries\n",
    "import numpy as np\n",
    "import pandas as pd\n",
    "import difflib\n",
    "from sklearn.feature_extraction.text import TfidfVectorizer\n",
    "from sklearn.metrics.pairwise import cosine_similarity"
   ]
  },
  {
   "cell_type": "markdown",
   "id": "21bbde6f",
   "metadata": {},
   "source": [
    "##  1. Data Collection & Pre-Processing\n"
   ]
  },
  {
   "cell_type": "code",
   "execution_count": 59,
   "id": "145fad5d",
   "metadata": {},
   "outputs": [],
   "source": [
    "# Loading the dataset into a pandas DataFrame\n",
    "movies_data = pd.read_csv('movies.csv')"
   ]
  },
  {
   "cell_type": "code",
   "execution_count": 60,
   "id": "0e80b390",
   "metadata": {},
   "outputs": [
    {
     "name": "stdout",
     "output_type": "stream",
     "text": [
      "First 5 rows of the dataset:\n"
     ]
    },
    {
     "data": {
      "text/html": [
       "<div>\n",
       "<style scoped>\n",
       "    .dataframe tbody tr th:only-of-type {\n",
       "        vertical-align: middle;\n",
       "    }\n",
       "\n",
       "    .dataframe tbody tr th {\n",
       "        vertical-align: top;\n",
       "    }\n",
       "\n",
       "    .dataframe thead th {\n",
       "        text-align: right;\n",
       "    }\n",
       "</style>\n",
       "<table border=\"1\" class=\"dataframe\">\n",
       "  <thead>\n",
       "    <tr style=\"text-align: right;\">\n",
       "      <th></th>\n",
       "      <th>index</th>\n",
       "      <th>budget</th>\n",
       "      <th>genres</th>\n",
       "      <th>homepage</th>\n",
       "      <th>id</th>\n",
       "      <th>keywords</th>\n",
       "      <th>original_language</th>\n",
       "      <th>original_title</th>\n",
       "      <th>overview</th>\n",
       "      <th>popularity</th>\n",
       "      <th>...</th>\n",
       "      <th>runtime</th>\n",
       "      <th>spoken_languages</th>\n",
       "      <th>status</th>\n",
       "      <th>tagline</th>\n",
       "      <th>title</th>\n",
       "      <th>vote_average</th>\n",
       "      <th>vote_count</th>\n",
       "      <th>cast</th>\n",
       "      <th>crew</th>\n",
       "      <th>director</th>\n",
       "    </tr>\n",
       "  </thead>\n",
       "  <tbody>\n",
       "    <tr>\n",
       "      <th>0</th>\n",
       "      <td>0</td>\n",
       "      <td>237000000</td>\n",
       "      <td>Action Adventure Fantasy Science Fiction</td>\n",
       "      <td>http://www.avatarmovie.com/</td>\n",
       "      <td>19995</td>\n",
       "      <td>culture clash future space war space colony so...</td>\n",
       "      <td>en</td>\n",
       "      <td>Avatar</td>\n",
       "      <td>In the 22nd century, a paraplegic Marine is di...</td>\n",
       "      <td>150.437577</td>\n",
       "      <td>...</td>\n",
       "      <td>162.0</td>\n",
       "      <td>[{\"iso_639_1\": \"en\", \"name\": \"English\"}, {\"iso...</td>\n",
       "      <td>Released</td>\n",
       "      <td>Enter the World of Pandora.</td>\n",
       "      <td>Avatar</td>\n",
       "      <td>7.2</td>\n",
       "      <td>11800</td>\n",
       "      <td>Sam Worthington Zoe Saldana Sigourney Weaver S...</td>\n",
       "      <td>[{'name': 'Stephen E. Rivkin', 'gender': 0, 'd...</td>\n",
       "      <td>James Cameron</td>\n",
       "    </tr>\n",
       "    <tr>\n",
       "      <th>1</th>\n",
       "      <td>1</td>\n",
       "      <td>300000000</td>\n",
       "      <td>Adventure Fantasy Action</td>\n",
       "      <td>http://disney.go.com/disneypictures/pirates/</td>\n",
       "      <td>285</td>\n",
       "      <td>ocean drug abuse exotic island east india trad...</td>\n",
       "      <td>en</td>\n",
       "      <td>Pirates of the Caribbean: At World's End</td>\n",
       "      <td>Captain Barbossa, long believed to be dead, ha...</td>\n",
       "      <td>139.082615</td>\n",
       "      <td>...</td>\n",
       "      <td>169.0</td>\n",
       "      <td>[{\"iso_639_1\": \"en\", \"name\": \"English\"}]</td>\n",
       "      <td>Released</td>\n",
       "      <td>At the end of the world, the adventure begins.</td>\n",
       "      <td>Pirates of the Caribbean: At World's End</td>\n",
       "      <td>6.9</td>\n",
       "      <td>4500</td>\n",
       "      <td>Johnny Depp Orlando Bloom Keira Knightley Stel...</td>\n",
       "      <td>[{'name': 'Dariusz Wolski', 'gender': 2, 'depa...</td>\n",
       "      <td>Gore Verbinski</td>\n",
       "    </tr>\n",
       "    <tr>\n",
       "      <th>2</th>\n",
       "      <td>2</td>\n",
       "      <td>245000000</td>\n",
       "      <td>Action Adventure Crime</td>\n",
       "      <td>http://www.sonypictures.com/movies/spectre/</td>\n",
       "      <td>206647</td>\n",
       "      <td>spy based on novel secret agent sequel mi6</td>\n",
       "      <td>en</td>\n",
       "      <td>Spectre</td>\n",
       "      <td>A cryptic message from Bond’s past sends him o...</td>\n",
       "      <td>107.376788</td>\n",
       "      <td>...</td>\n",
       "      <td>148.0</td>\n",
       "      <td>[{\"iso_639_1\": \"fr\", \"name\": \"Fran\\u00e7ais\"},...</td>\n",
       "      <td>Released</td>\n",
       "      <td>A Plan No One Escapes</td>\n",
       "      <td>Spectre</td>\n",
       "      <td>6.3</td>\n",
       "      <td>4466</td>\n",
       "      <td>Daniel Craig Christoph Waltz L\\u00e9a Seydoux ...</td>\n",
       "      <td>[{'name': 'Thomas Newman', 'gender': 2, 'depar...</td>\n",
       "      <td>Sam Mendes</td>\n",
       "    </tr>\n",
       "    <tr>\n",
       "      <th>3</th>\n",
       "      <td>3</td>\n",
       "      <td>250000000</td>\n",
       "      <td>Action Crime Drama Thriller</td>\n",
       "      <td>http://www.thedarkknightrises.com/</td>\n",
       "      <td>49026</td>\n",
       "      <td>dc comics crime fighter terrorist secret ident...</td>\n",
       "      <td>en</td>\n",
       "      <td>The Dark Knight Rises</td>\n",
       "      <td>Following the death of District Attorney Harve...</td>\n",
       "      <td>112.312950</td>\n",
       "      <td>...</td>\n",
       "      <td>165.0</td>\n",
       "      <td>[{\"iso_639_1\": \"en\", \"name\": \"English\"}]</td>\n",
       "      <td>Released</td>\n",
       "      <td>The Legend Ends</td>\n",
       "      <td>The Dark Knight Rises</td>\n",
       "      <td>7.6</td>\n",
       "      <td>9106</td>\n",
       "      <td>Christian Bale Michael Caine Gary Oldman Anne ...</td>\n",
       "      <td>[{'name': 'Hans Zimmer', 'gender': 2, 'departm...</td>\n",
       "      <td>Christopher Nolan</td>\n",
       "    </tr>\n",
       "    <tr>\n",
       "      <th>4</th>\n",
       "      <td>4</td>\n",
       "      <td>260000000</td>\n",
       "      <td>Action Adventure Science Fiction</td>\n",
       "      <td>http://movies.disney.com/john-carter</td>\n",
       "      <td>49529</td>\n",
       "      <td>based on novel mars medallion space travel pri...</td>\n",
       "      <td>en</td>\n",
       "      <td>John Carter</td>\n",
       "      <td>John Carter is a war-weary, former military ca...</td>\n",
       "      <td>43.926995</td>\n",
       "      <td>...</td>\n",
       "      <td>132.0</td>\n",
       "      <td>[{\"iso_639_1\": \"en\", \"name\": \"English\"}]</td>\n",
       "      <td>Released</td>\n",
       "      <td>Lost in our world, found in another.</td>\n",
       "      <td>John Carter</td>\n",
       "      <td>6.1</td>\n",
       "      <td>2124</td>\n",
       "      <td>Taylor Kitsch Lynn Collins Samantha Morton Wil...</td>\n",
       "      <td>[{'name': 'Andrew Stanton', 'gender': 2, 'depa...</td>\n",
       "      <td>Andrew Stanton</td>\n",
       "    </tr>\n",
       "  </tbody>\n",
       "</table>\n",
       "<p>5 rows × 24 columns</p>\n",
       "</div>"
      ],
      "text/plain": [
       "   index     budget                                    genres  \\\n",
       "0      0  237000000  Action Adventure Fantasy Science Fiction   \n",
       "1      1  300000000                  Adventure Fantasy Action   \n",
       "2      2  245000000                    Action Adventure Crime   \n",
       "3      3  250000000               Action Crime Drama Thriller   \n",
       "4      4  260000000          Action Adventure Science Fiction   \n",
       "\n",
       "                                       homepage      id  \\\n",
       "0                   http://www.avatarmovie.com/   19995   \n",
       "1  http://disney.go.com/disneypictures/pirates/     285   \n",
       "2   http://www.sonypictures.com/movies/spectre/  206647   \n",
       "3            http://www.thedarkknightrises.com/   49026   \n",
       "4          http://movies.disney.com/john-carter   49529   \n",
       "\n",
       "                                            keywords original_language  \\\n",
       "0  culture clash future space war space colony so...                en   \n",
       "1  ocean drug abuse exotic island east india trad...                en   \n",
       "2         spy based on novel secret agent sequel mi6                en   \n",
       "3  dc comics crime fighter terrorist secret ident...                en   \n",
       "4  based on novel mars medallion space travel pri...                en   \n",
       "\n",
       "                             original_title  \\\n",
       "0                                    Avatar   \n",
       "1  Pirates of the Caribbean: At World's End   \n",
       "2                                   Spectre   \n",
       "3                     The Dark Knight Rises   \n",
       "4                               John Carter   \n",
       "\n",
       "                                            overview  popularity  ... runtime  \\\n",
       "0  In the 22nd century, a paraplegic Marine is di...  150.437577  ...   162.0   \n",
       "1  Captain Barbossa, long believed to be dead, ha...  139.082615  ...   169.0   \n",
       "2  A cryptic message from Bond’s past sends him o...  107.376788  ...   148.0   \n",
       "3  Following the death of District Attorney Harve...  112.312950  ...   165.0   \n",
       "4  John Carter is a war-weary, former military ca...   43.926995  ...   132.0   \n",
       "\n",
       "                                    spoken_languages    status  \\\n",
       "0  [{\"iso_639_1\": \"en\", \"name\": \"English\"}, {\"iso...  Released   \n",
       "1           [{\"iso_639_1\": \"en\", \"name\": \"English\"}]  Released   \n",
       "2  [{\"iso_639_1\": \"fr\", \"name\": \"Fran\\u00e7ais\"},...  Released   \n",
       "3           [{\"iso_639_1\": \"en\", \"name\": \"English\"}]  Released   \n",
       "4           [{\"iso_639_1\": \"en\", \"name\": \"English\"}]  Released   \n",
       "\n",
       "                                          tagline  \\\n",
       "0                     Enter the World of Pandora.   \n",
       "1  At the end of the world, the adventure begins.   \n",
       "2                           A Plan No One Escapes   \n",
       "3                                 The Legend Ends   \n",
       "4            Lost in our world, found in another.   \n",
       "\n",
       "                                      title vote_average vote_count  \\\n",
       "0                                    Avatar          7.2      11800   \n",
       "1  Pirates of the Caribbean: At World's End          6.9       4500   \n",
       "2                                   Spectre          6.3       4466   \n",
       "3                     The Dark Knight Rises          7.6       9106   \n",
       "4                               John Carter          6.1       2124   \n",
       "\n",
       "                                                cast  \\\n",
       "0  Sam Worthington Zoe Saldana Sigourney Weaver S...   \n",
       "1  Johnny Depp Orlando Bloom Keira Knightley Stel...   \n",
       "2  Daniel Craig Christoph Waltz L\\u00e9a Seydoux ...   \n",
       "3  Christian Bale Michael Caine Gary Oldman Anne ...   \n",
       "4  Taylor Kitsch Lynn Collins Samantha Morton Wil...   \n",
       "\n",
       "                                                crew           director  \n",
       "0  [{'name': 'Stephen E. Rivkin', 'gender': 0, 'd...      James Cameron  \n",
       "1  [{'name': 'Dariusz Wolski', 'gender': 2, 'depa...     Gore Verbinski  \n",
       "2  [{'name': 'Thomas Newman', 'gender': 2, 'depar...         Sam Mendes  \n",
       "3  [{'name': 'Hans Zimmer', 'gender': 2, 'departm...  Christopher Nolan  \n",
       "4  [{'name': 'Andrew Stanton', 'gender': 2, 'depa...     Andrew Stanton  \n",
       "\n",
       "[5 rows x 24 columns]"
      ]
     },
     "execution_count": 60,
     "metadata": {},
     "output_type": "execute_result"
    }
   ],
   "source": [
    "# Display the first 5 rows of the dataset\n",
    "print(\"First 5 rows of the dataset:\")\n",
    "movies_data.head()"
   ]
  },
  {
   "cell_type": "code",
   "execution_count": 61,
   "id": "8bc7ecbd",
   "metadata": {},
   "outputs": [
    {
     "name": "stdout",
     "output_type": "stream",
     "text": [
      "\n",
      "Number of rows and columns in the dataset:\n",
      "(4803, 24)\n"
     ]
    }
   ],
   "source": [
    "# Checking the size of the dataset\n",
    "print(\"\\nNumber of rows and columns in the dataset:\")\n",
    "print(movies_data.shape)"
   ]
  },
  {
   "cell_type": "code",
   "execution_count": 62,
   "id": "139464f5",
   "metadata": {},
   "outputs": [
    {
     "name": "stdout",
     "output_type": "stream",
     "text": [
      "\n",
      "Selected Features:\n",
      "['genres', 'keywords', 'tagline', 'cast', 'director']\n"
     ]
    }
   ],
   "source": [
    "# Selecting the relevant features for building the recommendation system\n",
    "selected_features = ['genres', 'keywords', 'tagline', 'cast', 'director']\n",
    "print(\"\\nSelected Features:\")\n",
    "print(selected_features)"
   ]
  },
  {
   "cell_type": "code",
   "execution_count": 63,
   "id": "7ba0ec50",
   "metadata": {},
   "outputs": [
    {
     "name": "stdout",
     "output_type": "stream",
     "text": [
      "\n",
      "Null values in selected features:\n",
      "genres       28\n",
      "keywords    412\n",
      "tagline     844\n",
      "cast         43\n",
      "director     30\n",
      "dtype: int64\n"
     ]
    }
   ],
   "source": [
    "# Counting null values in each selected column\n",
    "null_count = movies_data[selected_features].isnull().sum()\n",
    "print(\"\\nNull values in selected features:\")\n",
    "print(null_count)"
   ]
  },
  {
   "cell_type": "code",
   "execution_count": 64,
   "id": "34836aac",
   "metadata": {},
   "outputs": [],
   "source": [
    "# Replacing null values with empty strings for seamless processing\n",
    "for feature in selected_features:\n",
    "    movies_data[feature] = movies_data[feature].fillna('')\n"
   ]
  },
  {
   "cell_type": "code",
   "execution_count": 65,
   "id": "8f1b687f",
   "metadata": {},
   "outputs": [],
   "source": [
    "# Combining selected features into a single string for each movie\n",
    "combine_features = (\n",
    "    movies_data['genres'] + ' ' +\n",
    "    movies_data['keywords'] + ' ' +\n",
    "    movies_data['tagline'] + ' ' +\n",
    "    movies_data['cast'] + ' ' +\n",
    "    movies_data['director']\n",
    ")\n"
   ]
  },
  {
   "cell_type": "code",
   "execution_count": 66,
   "id": "9c260fd8",
   "metadata": {},
   "outputs": [
    {
     "name": "stdout",
     "output_type": "stream",
     "text": [
      "\n",
      "Sample combined features for movies:\n",
      "0    Action Adventure Fantasy Science Fiction cultu...\n",
      "1    Adventure Fantasy Action ocean drug abuse exot...\n",
      "2    Action Adventure Crime spy based on novel secr...\n",
      "3    Action Crime Drama Thriller dc comics crime fi...\n",
      "4    Action Adventure Science Fiction based on nove...\n",
      "dtype: object\n"
     ]
    }
   ],
   "source": [
    "# Displaying a sample of combined features\n",
    "print(\"\\nSample combined features for movies:\")\n",
    "print(combine_features.head())"
   ]
  },
  {
   "cell_type": "markdown",
   "id": "4df11c5e",
   "metadata": {},
   "source": [
    "## 2. Feature Engineering"
   ]
  },
  {
   "cell_type": "code",
   "execution_count": 67,
   "id": "b5f1a9d2",
   "metadata": {},
   "outputs": [],
   "source": [
    "# Converting text data into numerical feature vectors using TF-IDF Vectorization\n",
    "vectorizer = TfidfVectorizer()\n",
    "feature_vectors = vectorizer.fit_transform(combine_features)"
   ]
  },
  {
   "cell_type": "code",
   "execution_count": 68,
   "id": "77bf86bc",
   "metadata": {},
   "outputs": [
    {
     "name": "stdout",
     "output_type": "stream",
     "text": [
      "\n",
      "Shape of the TF-IDF feature matrix:\n",
      "(4803, 17318)\n"
     ]
    }
   ],
   "source": [
    "# Displaying the shape of the resulting feature matrix\n",
    "print(\"\\nShape of the TF-IDF feature matrix:\")\n",
    "print(feature_vectors.shape)\n"
   ]
  },
  {
   "cell_type": "markdown",
   "id": "4980c6b4",
   "metadata": {},
   "source": [
    "## 3. Cosine Similarity Calculation"
   ]
  },
  {
   "cell_type": "code",
   "execution_count": 69,
   "id": "2e15b71d",
   "metadata": {},
   "outputs": [],
   "source": [
    "# Calculating cosine similarity between all movie feature vectors\n",
    "similarity = cosine_similarity(feature_vectors)"
   ]
  },
  {
   "cell_type": "code",
   "execution_count": 70,
   "id": "ab2570e6",
   "metadata": {},
   "outputs": [
    {
     "name": "stdout",
     "output_type": "stream",
     "text": [
      "\n",
      "Shape of the similarity matrix:\n",
      "(4803, 4803)\n"
     ]
    }
   ],
   "source": [
    "# Displaying the shape of the similarity matrix\n",
    "print(\"\\nShape of the similarity matrix:\")\n",
    "print(similarity.shape)"
   ]
  },
  {
   "cell_type": "markdown",
   "id": "5996a10e",
   "metadata": {},
   "source": [
    "## 4. Generating Recommendations"
   ]
  },
  {
   "cell_type": "code",
   "execution_count": 71,
   "id": "36c9fe26",
   "metadata": {},
   "outputs": [
    {
     "name": "stdout",
     "output_type": "stream",
     "text": [
      "\n",
      "Enter your favorite movie name: \n"
     ]
    }
   ],
   "source": [
    "# Prompting the user to enter their favorite movie\n",
    "movie_name = input('\\nEnter your favorite movie name: ')"
   ]
  },
  {
   "cell_type": "code",
   "execution_count": 72,
   "id": "c7d33d4e",
   "metadata": {},
   "outputs": [],
   "source": [
    "# Creating a list of all movie titles in the dataset\n",
    "list_of_all_titles = movies_data['title'].tolist()"
   ]
  },
  {
   "cell_type": "code",
   "execution_count": 73,
   "id": "c82db7ca",
   "metadata": {},
   "outputs": [
    {
     "name": "stdout",
     "output_type": "stream",
     "text": [
      "\n",
      "No matching movie found. Please try again with a different title.\n"
     ]
    }
   ],
   "source": [
    "# Finding the closest match for the input movie name\n",
    "find_close_match = difflib.get_close_matches(movie_name, list_of_all_titles)\n",
    "if find_close_match:\n",
    "    close_match = find_close_match[0]\n",
    "    print(f\"\\nClosest match found: {close_match}\")\n",
    "else:\n",
    "    print(\"\\nNo matching movie found. Please try again with a different title.\")\n",
    "    exit()"
   ]
  },
  {
   "cell_type": "code",
   "execution_count": 1,
   "id": "2d8716cb",
   "metadata": {},
   "outputs": [
    {
     "ename": "NameError",
     "evalue": "name 'movies_data' is not defined",
     "output_type": "error",
     "traceback": [
      "\u001b[1;31m---------------------------------------------------------------------------\u001b[0m",
      "\u001b[1;31mNameError\u001b[0m                                 Traceback (most recent call last)",
      "Cell \u001b[1;32mIn[1], line 2\u001b[0m\n\u001b[0;32m      1\u001b[0m \u001b[38;5;66;03m# Finding the index of the movie with the closest match\u001b[39;00m\n\u001b[1;32m----> 2\u001b[0m index_of_the_movie \u001b[38;5;241m=\u001b[39m movies_data[movies_data\u001b[38;5;241m.\u001b[39mtitle \u001b[38;5;241m==\u001b[39m close_match][\u001b[38;5;124m'\u001b[39m\u001b[38;5;124mindex\u001b[39m\u001b[38;5;124m'\u001b[39m]\u001b[38;5;241m.\u001b[39mvalues[\u001b[38;5;241m0\u001b[39m]\n\u001b[0;32m      3\u001b[0m \u001b[38;5;28mprint\u001b[39m(index_of_the_movie)\n",
      "\u001b[1;31mNameError\u001b[0m: name 'movies_data' is not defined"
     ]
    }
   ],
   "source": [
    "# Finding the index of the movie with the closest match\n",
    "index_of_the_movie = movies_data[movies_data.title == close_match]['index'].values[0]\n",
    "print(index_of_the_movie)"
   ]
  },
  {
   "cell_type": "code",
   "execution_count": null,
   "id": "2062bc65",
   "metadata": {},
   "outputs": [],
   "source": [
    "## Getting a list of similarity scores for the movie\n",
    "similarity_score = list(enumerate(similarity[index_of_the_movie]))\n",
    "##print(similarity_score)"
   ]
  },
  {
   "cell_type": "code",
   "execution_count": null,
   "id": "6356b86b",
   "metadata": {},
   "outputs": [],
   "source": [
    "len(similarity_score)"
   ]
  },
  {
   "cell_type": "code",
   "execution_count": null,
   "id": "c141864e",
   "metadata": {},
   "outputs": [],
   "source": [
    "# Sorting movies based on similarity scores in descending order\n",
    "sorted_similar_movies = sorted(similarity_score, key=lambda x: x[1], reverse=True)\n",
    "##print(sorted_similar_movies)\n"
   ]
  },
  {
   "cell_type": "code",
   "execution_count": null,
   "id": "dd9bd5e7",
   "metadata": {},
   "outputs": [],
   "source": [
    "# Printing the top 30 recommended movies\n",
    "print('\\nMovies recommended for you:\\n')\n",
    "i = 1\n",
    "for movie in sorted_similar_movies:\n",
    "    index = movie[0]\n",
    "    title_from_index = movies_data[movies_data.index == index]['title'].values[0]\n",
    "    if i <= 30:\n",
    "        print(f\"{i}. {title_from_index}\")\n",
    "        i += 1\n",
    "        \n",
    "    \n",
    "    \n",
    "      \n",
    "      \n",
    "        "
   ]
  },
  {
   "cell_type": "markdown",
   "id": "b64f31c0",
   "metadata": {},
   "source": [
    "## Movie Recommendation Sytem"
   ]
  },
  {
   "cell_type": "code",
   "execution_count": null,
   "id": "c792ad70",
   "metadata": {},
   "outputs": [],
   "source": [
    "# Prompt the user to input their favorite movie\n",
    "movie_name = input('\\nEnter your favorite movie name: ')\n",
    "\n",
    "# Creating a list of all movie titles from the dataset\n",
    "list_of_all_titles = movies_data['title'].tolist()\n",
    "\n",
    "# Using difflib to find the closest match for the user's input\n",
    "find_close_match = difflib.get_close_matches(movie_name, list_of_all_titles)\n",
    "\n",
    "# Check if any match is found\n",
    "if find_close_match:\n",
    "    # Select the closest matching movie title\n",
    "    close_match = find_close_match[0]\n",
    "    print(f\"\\nClosest match found: {close_match}\")\n",
    "else:\n",
    "    # Handle cases where no match is found\n",
    "    print(\"\\nNo close match found for the movie name provided. Please try again with a different title.\")\n",
    "    exit()\n",
    "\n",
    "# Finding the index of the closest matching movie\n",
    "index_of_the_movie = movies_data[movies_data.title == close_match]['index'].values[0]\n",
    "\n",
    "# Retrieve the similarity scores for the selected movie\n",
    "similarity_score = list(enumerate(similarity[index_of_the_movie]))\n",
    "\n",
    "# Sort the movies based on similarity scores in descending order\n",
    "sorted_similar_movies = sorted(similarity_score, key=lambda x: x[1], reverse=True)\n",
    "\n",
    "# Displaying the top 30 recommended movies\n",
    "print('\\nMovies recommended for you:\\n')\n",
    "\n",
    "# Initialize a counter for ranking the recommendations\n",
    "i = 1\n",
    "\n",
    "# Loop through the sorted list of similar movies\n",
    "for movie in sorted_similar_movies:\n",
    "    index = movie[0]\n",
    "    \n",
    "    # Get the title of the movie from its index\n",
    "    title_from_index = movies_data[movies_data.index == index]['title'].values[0]\n",
    "    \n",
    "    # Display up to 30 movie recommendations\n",
    "    if i <= 30:\n",
    "        print(f\"{i}. {title_from_index}\")\n",
    "        i += 1"
   ]
  }
 ],
 "metadata": {
  "kernelspec": {
   "display_name": "Python 3 (ipykernel)",
   "language": "python",
   "name": "python3"
  },
  "language_info": {
   "codemirror_mode": {
    "name": "ipython",
    "version": 3
   },
   "file_extension": ".py",
   "mimetype": "text/x-python",
   "name": "python",
   "nbconvert_exporter": "python",
   "pygments_lexer": "ipython3",
   "version": "3.11.5"
  }
 },
 "nbformat": 4,
 "nbformat_minor": 5
}
